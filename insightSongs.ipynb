{
 "cells": [
  {
   "cell_type": "code",
   "execution_count": 76,
   "metadata": {},
   "outputs": [],
   "source": [
    "\n",
    "import pandas as pd\n",
    "\n",
    "#this error:utf8 occurs for some datasets you have to put encoding=latin1 always\n",
    "\n",
    "df=pd.read_csv('/Users/mertz/dataAnalyze/spotifyD/spotify.csv',encoding='latin-1')\n"
   ]
  },
  {
   "cell_type": "code",
   "execution_count": 77,
   "metadata": {},
   "outputs": [],
   "source": [
    "df=df.dropna()\n",
    "\n"
   ]
  },
  {
   "cell_type": "code",
   "execution_count": 88,
   "metadata": {},
   "outputs": [],
   "source": [
    "#LEARNING:When you clean and delete some rows and all do them on a seperate above cell because when you do smthng wrong and rerun whole cell these cells are changed or types are changed trying to running it again gives eerorr.\n",
    "\n",
    "#!pip3 install scikit-learn\n",
    "\n",
    "from sklearn.model_selection import train_test_split\n",
    "from sklearn.ensemble import RandomForestRegressor\n",
    "from sklearn.metrics import mean_squared_error\n",
    "from sklearn.preprocessing import StandardScaler\n",
    "\n",
    "\n",
    "#MANIPULATE/CLEA\n",
    "\n",
    "#column names had to be changed.\n",
    "df.columns=[col.replace('_%','') for col in df.columns]\n",
    "\n",
    "#we checked the type of data,\n",
    "#our streams variable is object which means string,change that to float/or integer\n",
    "\n",
    "\n",
    "#we had a row with a specific issue we dropped that row with wrong value\n",
    "problematic_row = df[df['streams'] == 'BPM110KeyAModeMajorDanceability53Valence75Energy69Acousticness7Instrumentalness0Liveness17Speechiness3']\n",
    "#df=df.drop(index=574)\n",
    "#print(df.loc[574]) \n",
    "\n",
    "\n",
    "\n",
    "#df['streams'] = df['streams'].str.replace(',', '').astype(float) when you run again and again we get error since we dont have string anymoer its already float so commented out.\n",
    "\n",
    "\n",
    "#we took features that we think affects stream count.Independent variables in other words.\n",
    "#We can keep adding it or subtracting from list of ones we want.!\n",
    "#depending on your models prediction later on,if it means squared and rsquared we can remove or add variables.\n",
    "features=df[['bpm','danceability','valence'\t,'energy','acousticness','liveness','speechiness']]\n",
    "\n",
    "\n",
    "# hypothesizing that these variables have an influence on the number of streams a song receives, which is your target variable.\n",
    "target=df['streams']\n",
    "\n",
    "#In summary, test_size controls how much of your data is used for testing, and random_state ensures that the random process of splitting the data is reproducible.\n",
    "X_train, X_test, y_train, y_test = train_test_split(features, target, test_size=0.7, random_state=42)\n",
    "\n",
    "scaler = StandardScaler()\n",
    "X_train_scaled = scaler.fit_transform(X_train)\n",
    "X_test_scaled = scaler.transform(X_test)\n",
    "\n"
   ]
  },
  {
   "cell_type": "code",
   "execution_count": 89,
   "metadata": {},
   "outputs": [
    {
     "name": "stdout",
     "output_type": "stream",
     "text": [
      "Mean Squared Error: 2.9760918327377875e+17\n",
      "Predicted Streams: 448529973.78\n"
     ]
    },
    {
     "name": "stderr",
     "output_type": "stream",
     "text": [
      "/opt/homebrew/lib/python3.9/site-packages/sklearn/base.py:465: UserWarning: X does not have valid feature names, but StandardScaler was fitted with feature names\n",
      "  warnings.warn(\n"
     ]
    }
   ],
   "source": [
    "#MODEL 1  Random forestregressor\n",
    "\n",
    "rfModel = RandomForestRegressor(n_estimators=100, random_state=42)\n",
    "rfModel.fit(X_train_scaled, y_train)\n",
    "predictions = rfModel.predict(X_test_scaled)\n",
    "\n",
    "# Evaluate the model\n",
    "mse = mean_squared_error(y_test, predictions)\n",
    "print(f\"Mean Squared Error: {mse}\")\n",
    "\n",
    "\n",
    "# Example: Predicting streams for a new song\n",
    "new_song_features = [[120, 70 , 80, 60, 50,10,5]]  # example feature values i gave randomly.\n",
    "new_song_features_scaled = scaler.transform(new_song_features)\n",
    "predicted_streams = rfModel.predict(new_song_features_scaled)\n",
    "print(f\"Predicted Streams: {predicted_streams[0]}\")"
   ]
  },
  {
   "cell_type": "code",
   "execution_count": 90,
   "metadata": {},
   "outputs": [
    {
     "name": "stdout",
     "output_type": "stream",
     "text": [
      "Mean Squared Error: 2.762042945537966e+17\n",
      "Predicted Streams: 482331181.7716083\n"
     ]
    },
    {
     "name": "stderr",
     "output_type": "stream",
     "text": [
      "/opt/homebrew/lib/python3.9/site-packages/sklearn/base.py:465: UserWarning: X does not have valid feature names, but StandardScaler was fitted with feature names\n",
      "  warnings.warn(\n"
     ]
    }
   ],
   "source": [
    "#Linear Regression: Good for understanding relationships between variables, but might be too simple for complex relationships.\n",
    "\n",
    "from sklearn.linear_model import LinearRegression\n",
    "\n",
    "lRmodel = LinearRegression()\n",
    "lRmodel.fit(X_train_scaled, y_train)\n",
    "predictions = lRmodel.predict(X_test_scaled) \n",
    "\n",
    "mse = mean_squared_error(y_test, predictions)\n",
    "print(f\"Mean Squared Error: {mse}\")\n",
    "\n",
    "new_song_features = [[120, 70 , 80, 60, 50,10,5]]  # example feature values i gave randomly.\n",
    "new_song_features_scaled = scaler.transform(new_song_features)\n",
    "predicted_streams = lRmodel.predict(new_song_features_scaled)\n",
    "print(f\"Predicted Streams: {predicted_streams[0]}\")"
   ]
  },
  {
   "cell_type": "code",
   "execution_count": null,
   "metadata": {},
   "outputs": [],
   "source": [
    "#can try as many models possible see how mean squared errors change as well \n",
    "#https://www.databricks.com/glossary/machine-learning-models check for different models\n"
   ]
  },
  {
   "cell_type": "code",
   "execution_count": 91,
   "metadata": {},
   "outputs": [
    {
     "name": "stdout",
     "output_type": "stream",
     "text": [
      "Mean Squared Error: 7.156657165217078e+17\n",
      "Predicted Streams: 160845341.0\n"
     ]
    },
    {
     "name": "stderr",
     "output_type": "stream",
     "text": [
      "/opt/homebrew/lib/python3.9/site-packages/sklearn/base.py:465: UserWarning: X does not have valid feature names, but StandardScaler was fitted with feature names\n",
      "  warnings.warn(\n"
     ]
    }
   ],
   "source": [
    "#model Decision Tree Regressor: Useful for capturing non-linear relationships; can be more interpretable than some other models.\n",
    "#we try different models and see how better they are based on our dataset and usecase\n",
    "\n",
    "from sklearn.tree import DecisionTreeRegressor\n",
    "\n",
    "dtModel = DecisionTreeRegressor(random_state=42)\n",
    "dtModel.fit(X_train_scaled, y_train)\n",
    "predictions=dtModel.predict(X_test_scaled)\n",
    "\n",
    "# Evaluate the model\n",
    "mse = mean_squared_error(y_test, predictions)\n",
    "print(f\"Mean Squared Error: {mse}\")\n",
    "\n",
    "# Example: Predicting streams for a new song\n",
    "new_song_features = [[120, 70 , 80, 60, 50,10,5]]  # example feature values i gave randomly.\n",
    "new_song_features_scaled = scaler.transform(new_song_features)\n",
    "predicted_streams = dtModel.predict(new_song_features_scaled)\n",
    "print(f\"Predicted Streams: {predicted_streams[0]}\")"
   ]
  },
  {
   "cell_type": "code",
   "execution_count": 92,
   "metadata": {},
   "outputs": [
    {
     "data": {
      "image/png": "[encoded data removed]",
      "text/plain": [
       "<Figure size 720x576 with 2 Axes>"
      ]
     },
     "metadata": {
      "needs_background": "light"
     },
     "output_type": "display_data"
    }
   ],
   "source": [
    "import matplotlib.pyplot as plt\n",
    "from sklearn.metrics import mean_squared_error, r2_score\n",
    "from sklearn.ensemble import RandomForestRegressor, GradientBoostingRegressor\n",
    "from sklearn.linear_model import LinearRegression\n",
    "from sklearn.tree import DecisionTreeRegressor\n",
    "\n",
    "#COMPARING MODEL ACCURACIES\n",
    "#WE NEED MSE R SQUARED OR ROOT MEAN SQUARED FOR EACH MODELS\n",
    "\n",
    "# Initialize models\n",
    "models = {\n",
    "    \"Linear Regression\": LinearRegression(),\n",
    "    \"Decision Tree\": DecisionTreeRegressor(random_state=42),\n",
    "    \"Random Forest\": RandomForestRegressor(random_state=42),\n",
    "    \"Gradient Boosting\": GradientBoostingRegressor(random_state=42)\n",
    "}\n",
    "\n",
    "# Dictionary to store the performance metrics\n",
    "model_performance = {}\n",
    "\n",
    "# Train and evaluate each model\n",
    "for name, model in models.items():\n",
    "    model.fit(X_train_scaled, y_train)\n",
    "    predictions = model.predict(X_test_scaled)\n",
    "    mse = mean_squared_error(y_test, predictions)\n",
    "    r2 = r2_score(y_test, predictions)\n",
    "    model_performance[name] = {\"MSE\": mse, \"R2\": r2}\n",
    "\n",
    "# Visualization\n",
    "fig, ax = plt.subplots(2, 1, figsize=(10, 8))\n",
    "\n",
    "# Plotting MSE\n",
    "ax[0].bar(model_performance.keys(), [performance['MSE'] for performance in model_performance.values()])\n",
    "ax[0].set_title('Model Comparison - Mean Squared Error')\n",
    "ax[0].set_ylabel('MSE')\n",
    "\n",
    "# Plotting R2 Score\n",
    "ax[1].bar(model_performance.keys(), [performance['R2'] for performance in model_performance.values()])\n",
    "ax[1].set_title('Model Comparison - R2 Score')\n",
    "ax[1].set_ylabel('R2 Score')\n",
    "\n",
    "plt.tight_layout()\n",
    "plt.show()"
   ]
  },
  {
   "cell_type": "code",
   "execution_count": 94,
   "metadata": {},
   "outputs": [
    {
     "name": "stdout",
     "output_type": "stream",
     "text": [
      "\u001b[33mDEPRECATION: Configuring installation scheme with distutils config files is deprecated and will no longer work in the near future. If you are using a Homebrew or Linuxbrew Python, please see discussion at https://github.com/Homebrew/homebrew-core/issues/76621\u001b[0m\u001b[33m\n",
      "\u001b[0mRequirement already satisfied: joblib in /opt/homebrew/lib/python3.9/site-packages (1.3.2)\n",
      "\u001b[33mDEPRECATION: Configuring installation scheme with distutils config files is deprecated and will no longer work in the near future. If you are using a Homebrew or Linuxbrew Python, please see discussion at https://github.com/Homebrew/homebrew-core/issues/76621\u001b[0m\u001b[33m\n",
      "\u001b[0m"
     ]
    },
    {
     "data": {
      "text/plain": [
       "['linear_regression_model.pkl']"
      ]
     },
     "execution_count": 94,
     "metadata": {},
     "output_type": "execute_result"
    }
   ],
   "source": [
    "#We saved this model like this so we can call it from streamlit to use it in frontend webapp\n",
    "!pip install joblib\n",
    "\n",
    "import joblib\n",
    "\n",
    "# Train your model\n",
    "lRmodel = LinearRegression()\n",
    "lRmodel.fit(X_train_scaled, y_train)\n",
    "\n",
    "# Save your model\n",
    "joblib.dump(lRmodel, 'linear_regression_model.pkl')"
   ]
  },
  {
   "cell_type": "code",
   "execution_count": 95,
   "metadata": {},
   "outputs": [
    {
     "data": {
      "text/plain": [
       "['scaler.pkl']"
      ]
     },
     "execution_count": 95,
     "metadata": {},
     "output_type": "execute_result"
    }
   ],
   "source": [
    "\n",
    "# Save the scaler and call it in streamlit too!\n",
    "joblib.dump(scaler, 'scaler.pkl')"
   ]
  },
  {
   "cell_type": "code",
   "execution_count": null,
   "metadata": {},
   "outputs": [],
   "source": []
  },
  {
   "cell_type": "code",
   "execution_count": null,
   "metadata": {},
   "outputs": [],
   "source": []
  },
  {
   "cell_type": "code",
   "execution_count": null,
   "metadata": {},
   "outputs": [],
   "source": [
    "'''\n",
    "LEARNING\n",
    "\n",
    "\n",
    "\n",
    "what does bigger or smaller the r2 score or mean squared eerors meaning\n",
    "\n",
    "\n",
    "\n",
    "The R-squared (R²) score and the Mean Squared Error (MSE) are both metrics used to evaluate the performance of regression models, but they tell you different things about the model's accuracy and fit:\n",
    "\n",
    "R-squared (R²) Score:\n",
    "\n",
    "What it is: R² is a statistical measure that represents the proportion of the variance for the dependent variable that's explained by the independent variables in a regression model. It is a value between 0 and 1.\n",
    "Interpretation:\n",
    "Higher R²: A higher R² value indicates that a larger proportion of variance in the dependent variable is explained by the independent variables. In simple terms, higher R² means better model fit.\n",
    "Lower R²: A lower R² value suggests that the model does not explain much of the variance in the dependent variable; it might not be capturing the underlying relationships effectively.\n",
    "Caveat: A high R² does not always mean a good model. It can be artificially inflated by adding irrelevant independent variables, and it does not indicate whether the model is appropriate or whether every predictor is significant.\n",
    "Mean Squared Error (MSE):\n",
    "\n",
    "What it is: MSE is the average of the squares of the errors, i.e., the average squared difference between the estimated values and the actual value. It is always non-negative, and values closer to zero are better.\n",
    "Interpretation:\n",
    "\n",
    "Lower MSE: A lower MSE indicates that the model has a smaller difference between the predicted and actual values, implying better model performance.\n",
    "Higher MSE: A higher MSE suggests a larger difference between the predicted and actual values, indicating poorer model performance.\n",
    "\n",
    "Caveat: MSE is sensitive to outliers. Large errors have disproportionately large impacts on MSE, so a model with a few large errors may have a worse MSE than a model with many small errors.\n",
    "In summary:\n",
    "\n",
    "A good model would typically have a high R² (close to 1) and a low MSE (close to 0).\n",
    "When comparing models, the one with a higher R² and a lower MSE is generally considered better in terms of prediction accuracy.\n",
    "Always consider these metrics in the context of your specific data and the problem you are solving. Sometimes, a model with a slightly lower R² but better interpretability and simplicity might be preferred, depending on the use case.\n",
    "\n",
    "\n",
    "\n",
    "'''"
   ]
  }
 ],
 "metadata": {
  "interpreter": {
   "hash": "a665b5d41d17b532ea9890333293a1b812fa0b73c9c25c950b3cedf1bebd0438"
  },
  "kernelspec": {
   "display_name": "Python 3.9.17 64-bit",
   "language": "python",
   "name": "python3"
  },
  "language_info": {
   "codemirror_mode": {
    "name": "ipython",
    "version": 3
   },
   "file_extension": ".py",
   "mimetype": "text/x-python",
   "name": "python",
   "nbconvert_exporter": "python",
   "pygments_lexer": "ipython3",
   "version": "3.9.17"
  },
  "orig_nbformat": 4
 },
 "nbformat": 4,
 "nbformat_minor": 2
}
